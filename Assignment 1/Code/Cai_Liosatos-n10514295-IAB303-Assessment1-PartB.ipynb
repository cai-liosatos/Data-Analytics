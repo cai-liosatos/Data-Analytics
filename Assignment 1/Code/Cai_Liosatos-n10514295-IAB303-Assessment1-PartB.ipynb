{
 "cells": [
  {
   "cell_type": "markdown",
   "metadata": {},
   "source": [
    "# IAB303 - Assessment 1 - Part B\n",
    "\n",
    "## Foundational Techniques\n",
    "\n",
    "#### INSTRUCTIONS\n",
    "\n",
    "1. Complete the section below with your personal details (and run the cell)\n",
    "2. Complete the full **QDAVI** data analytics cycle for the provided business concern. Ensure that you complete the cycle by addressing the question with your insights. You may undertake more than one cycle depending on your findings.\n",
    "3. Ensure that you identify a meaningful question that clearly addresses the business concern.\n",
    "4. Ensure that you use markdown cells to document your thinking and decision making for each stage of the process. Be clear on how your decisions are working towards addressing the question.\n",
    "5. Ensure that your code runs without errors, and that your results are appropriate for the question."
   ]
  },
  {
   "cell_type": "code",
   "execution_count": null,
   "metadata": {},
   "outputs": [],
   "source": [
    "# Complete the following cell with your details and run to produce your personalised header for this assignment\n",
    "\n",
    "from IPython.core.display import display, HTML\n",
    "\n",
    "first_name = \"Cai\"\n",
    "last_name = \"Liosatos\"\n",
    "student_number = \"n10514295\"\n",
    "\n",
    "personal_header = \"<h1>\"+first_name+\" \"+last_name+\" (\"+student_number+\")</h1>\"\n",
    "display(HTML(personal_header))"
   ]
  },
  {
   "cell_type": "markdown",
   "metadata": {},
   "source": [
    "---\n",
    "## BUSINESS CONCERN\n",
    "\n",
    "Your business is provided intelligence to other companies on global issues and potential impact on consumer spending. They wish to know how media reporting has changed in the last 6 months on (a) the war in Ukraine and (b) global energy and fuel issues.\n",
    "\n",
    "Using *The Guardian* API, identify relevant headlines (using unstructured data analysis techniques), and then create one or more dataframes which you can use to visualise relevant data (using structured data analysis techniques).\n",
    "\n",
    "*Hint: You may look at how the frequency of certain words changes over time*\n",
    "\n",
    "#### Data:\n",
    "[The Guardian OpenPlatform](https://open-platform.theguardian.com/access/)\n"
   ]
  },
  {
   "cell_type": "code",
   "execution_count": null,
   "metadata": {},
   "outputs": [],
   "source": [
    "# import libraries that you need here\n",
    "import pandas as pd\n",
    "import re\n",
    "import os \n",
    "import json\n",
    "import requests\n",
    "import numpy as np\n",
    "from datetime import datetime\n",
    "import matplotlib.pyplot as plt\n",
    "\n",
    "\n",
    "# change this to True if you would like results to be cached (Note: It will create folders and files in the same location as this file is saved)\n",
    "cache_on = False"
   ]
  },
  {
   "cell_type": "markdown",
   "metadata": {},
   "source": [
    "### 1. Question"
   ]
  },
  {
   "cell_type": "markdown",
   "metadata": {},
   "source": [
    "Identify any potential relationships between the following areas in published articles in the media to identify any potential impacts that could be had on consumer spending:\n",
    "- the war in Ukraine\n",
    "- global fuel issues\n",
    "- global energy issues"
   ]
  },
  {
   "cell_type": "markdown",
   "metadata": {},
   "source": [
    "### 2. Data"
   ]
  },
  {
   "cell_type": "markdown",
   "metadata": {},
   "source": [
    "Write functions to save pulled data to a cache (if turned on by user), and load data from cached files"
   ]
  },
  {
   "cell_type": "code",
   "execution_count": null,
   "metadata": {},
   "outputs": [],
   "source": [
    "# function to create a cached file containing the page pulled from the API\n",
    "def cache_save(folder_url, current_page, cache_list):\n",
    "    np.save(folder_url+str(current_page)+\".npy\", cache_list, allow_pickle=True, fix_imports=True)\n",
    "\n",
    "# function to load the cached files into a list\n",
    "def cache_load(folder_url):\n",
    "# loading cache\n",
    "    if os.path.exists(folder_url):\n",
    "        loaded_cache = []\n",
    "        for file in os.listdir(folder_url):\n",
    "            loaded_cache.append(np.load(folder_url+file, allow_pickle=True).tolist())\n",
    "        new_cache_list = flatten_list(loaded_cache)\n",
    "        return new_cache_list\n",
    "\n",
    "# function to flatten list of cached lists into a singular list\n",
    "def flatten_list(cache_list):\n",
    "    flat_list = []\n",
    "    # Iterate through the outer list\n",
    "    for element in cache_list:\n",
    "        if type(element) is list:\n",
    "            # If the element is of type list, iterate through the sublist\n",
    "            for item in element:\n",
    "                flat_list.append(item)\n",
    "        else:\n",
    "            flat_list.append(element)\n",
    "    return flat_list"
   ]
  },
  {
   "cell_type": "markdown",
   "metadata": {},
   "source": [
    "Scrape data from API (using URL ), and clean up the dataframe to be mroe visually appealing"
   ]
  },
  {
   "cell_type": "code",
   "execution_count": null,
   "metadata": {},
   "outputs": [],
   "source": [
    "# calling the api URL to get the total page count\n",
    "def page_count(api_url_start, api_url_end):\n",
    "    error_counter = 0\n",
    "    while error_counter < 3:\n",
    "        api_url = api_url_start + \"1\" + api_url_end\n",
    "        content = requests.get(api_url)\n",
    "        api_data = json.loads(content.content)\n",
    "        if api_data['response']['status'] == \"ok\":\n",
    "            page_count = int(api_data['response']['pages'])\n",
    "            break\n",
    "        else:\n",
    "            error_counter += 1\n",
    "    page_count = \"API has errored three times in a row whilst trying to get page count, check if the URL is correct\" if error_counter >= 3 else page_count\n",
    "    return page_count\n",
    "\n",
    "#  function to scrape the data from the page returned from the api into a list\n",
    "def api_scraping(page_count, url_start, url_end, folder_url):\n",
    "    error_msg = []\n",
    "    error_counter = 0\n",
    "    current_page = 1\n",
    "    results_list = []\n",
    "# while loop to add outputs to a list\n",
    "    while current_page <= page_count:\n",
    "        if error_counter < 3:\n",
    "            cache_list = []\n",
    "            api_url = url_start + str(current_page) + url_end\n",
    "            content = requests.get(api_url)\n",
    "            api_data = json.loads(content.content)\n",
    "            if api_data['response']['status'] == \"error\":\n",
    "                error_msg.append(api_data['response']['message'])\n",
    "                error_counter += 1\n",
    "            else:\n",
    "                for item in api_data['response']['results']:\n",
    "                    cache_list.append(item)\n",
    "                    results_list.append(item)\n",
    "        \n",
    "                # caching results for local use\n",
    "                if cache_on:\n",
    "                    cache_save(folder_url, current_page, cache_list)\n",
    "                current_page += 1\n",
    "                error_counter = 0\n",
    "                error_msg = []\n",
    "        else:\n",
    "            error_msg.append(\"API has errored three times in a row, giving up\")\n",
    "            break\n",
    "    return results_list, error_msg\n",
    "\n",
    "# Clean up dataframe to be more visually appealing, and easier to use\n",
    "def df_creation(dataframe_name):\n",
    "    dataframe_name = dataframe_name.rename(columns = {'id':'ID', 'type':'Type', 'sectionId':'SectionID', 'sectionName':'Section Name', 'webPublicationDate':'Web Publication Date', 'webTitle':'Web Title', 'webUrl':'URL', 'apiUrl':'API URL', 'isHosted':'Is Hosted', 'pillarId': 'Pillar ID', 'pillarName':'Pillar Name'}).copy()\n",
    "    # clean the data to be more user friendly\n",
    "    if \"Web Publication Date\" in dataframe_name.columns:\n",
    "        dataframe_name[\"Web Publication Date\"] = dataframe_name[\"Web Publication Date\"].apply(lambda x: x.replace(\"T\", \" \").replace(\"Z\", \"\"))\n",
    "        if dataframe_name[\"Web Publication Date\"].dtype == object:\n",
    "            dataframe_name[\"Web Publication Date\"] = pd.to_datetime(dataframe_name[\"Web Publication Date\"], format=\"%Y-%m-%d %H:%M:%S\")\n",
    "        dataframe_name.sort_values(by='Web Publication Date', ascending=False, inplace=True)\n",
    "        dataframe_name[\"Month\"] = dataframe_name[\"Web Publication Date\"].dt.month\n",
    "        dataframe_name[\"Year\"] = dataframe_name[\"Web Publication Date\"].dt.year\n",
    "    if \"Pillar ID\" in dataframe_name.columns:\n",
    "        dataframe_name[\"Pillar ID\"] = dataframe_name[\"Pillar ID\"].astype(str).apply(lambda x: x.replace(\"pillar/\", \"\"))\n",
    "    \n",
    "    return dataframe_name"
   ]
  },
  {
   "cell_type": "markdown",
   "metadata": {},
   "source": [
    "Pull data from the TheGuardian API, with specified URLs, then save to DF (allow about 30 seconds for the data to be completely retrieved)"
   ]
  },
  {
   "cell_type": "code",
   "execution_count": null,
   "metadata": {},
   "outputs": [],
   "source": [
    "# setting important variables\n",
    "ukraine_results = []\n",
    "ukraine_api_url_start = \"https://content.guardianapis.com/search?from-date=2022-02-20&order-by=newest&page=\"\n",
    "ukraine_api_url_end = \"&page-size=200&q=%22Ukraine%20War%22&api-key=dd3e21c9-be37-4bdb-b311-2fd86c0fd153\"\n",
    "\n",
    "# getting the total page count\n",
    "ukraine_page_count = page_count(ukraine_api_url_start, ukraine_api_url_end)\n",
    "\n",
    "# making the cache folder directory\n",
    "if cache_on:\n",
    "    if os.path.exists(\"./cache/Ukraine-War/\") is False:\n",
    "        os.makedirs(\"./cache/Ukraine-War/\")\n",
    "\n",
    "# printing first result of data if no errors, else printing the error (formatted)\n",
    "if type(ukraine_page_count) == int:\n",
    "    ukraine_results, error_msg = api_scraping(ukraine_page_count, ukraine_api_url_start, ukraine_api_url_end, \"./cache/fuel-Issues/\")\n",
    "    print(f\"{error_msg[3]}\\n\\nThese were the error messages:\\n1: {error_msg[0]}\\n2: {error_msg[1]}\\n3: {error_msg[2]}\\n\\nMake sure the URL is correct, then try again\") if len(error_msg) > 3 else print(fuel_results[0])\n",
    "else:\n",
    "    print(ukraine_page_count)"
   ]
  },
  {
   "cell_type": "markdown",
   "metadata": {},
   "source": [
    "Load cached files if cache is turned on (turned off currently, can be turned back on at top of file, where data is getting imported)"
   ]
  },
  {
   "cell_type": "code",
   "execution_count": null,
   "metadata": {},
   "outputs": [],
   "source": [
    "# loading cache\n",
    "if cache_on:\n",
    "    ukraine_results = cache_load(\"./cache/Ukraine-War/\")"
   ]
  },
  {
   "cell_type": "code",
   "execution_count": null,
   "metadata": {},
   "outputs": [],
   "source": [
    "# create DF from ukraine_results list\n",
    "ukraine_api_data_df = pd.DataFrame(ukraine_results)\n",
    "\n",
    "# Clean/prepare the data for analysis\n",
    "ukraine_api_data_df = df_creation(ukraine_api_data_df)\n",
    "\n",
    "ukraine_api_data_df"
   ]
  },
  {
   "cell_type": "code",
   "execution_count": null,
   "metadata": {},
   "outputs": [],
   "source": [
    "# same code as before, but for fuel issues\n",
    "\n",
    "# setting important variables\n",
    "fuel_results = []\n",
    "fuel_api_url_start = 'https://content.guardianapis.com/search?from-date=2022-02-20&order-by=newest&page='\n",
    "fuel_api_url_end = '&page-size=100&q=Fuel%20AND%20Issues&api-key=dd3e21c9-be37-4bdb-b311-2fd86c0fd153'\n",
    "\n",
    "# getting the total page count\n",
    "fuel_page_count = page_count(fuel_api_url_start, fuel_api_url_end)\n",
    "\n",
    "\n",
    "# making the cache folder directory\n",
    "if cache_on:\n",
    "    if os.path.exists(\"./cache/Fuel-Issues/\") is False:\n",
    "        os.makedirs(\"./cache/Fuel-Issues/\")\n",
    "\n",
    "# printing first result of data if no errors, else printing the error (formatted)\n",
    "if type(fuel_page_count) == int:\n",
    "    fuel_results, error_msg = api_scraping(fuel_page_count, fuel_api_url_start, fuel_api_url_end, \"./cache/fuel-Issues/\")\n",
    "    print(f\"{error_msg[3]}\\n\\nThese were the error messages:\\n1: {error_msg[0]}\\n2: {error_msg[1]}\\n3: {error_msg[2]}\\n\\nMake sure the URL is correct, then try again\") if len(error_msg) > 3 else print(fuel_results[0])\n",
    "else:\n",
    "    print(fuel_page_count)"
   ]
  },
  {
   "cell_type": "code",
   "execution_count": null,
   "metadata": {},
   "outputs": [],
   "source": [
    "# loading cache\n",
    "if cache_on:\n",
    "    fuel_results = cache_load(\"./cache/Fuel-Issues/\")"
   ]
  },
  {
   "cell_type": "code",
   "execution_count": null,
   "metadata": {},
   "outputs": [],
   "source": [
    "# create DF from fuel_results list\n",
    "fuel_api_data_df = pd.DataFrame(fuel_results)\n",
    "\n",
    "# Clean/prepare the data for analysis\n",
    "fuel_api_data_df = df_creation(fuel_api_data_df)\n",
    "\n",
    "fuel_api_data_df"
   ]
  },
  {
   "cell_type": "code",
   "execution_count": null,
   "metadata": {},
   "outputs": [],
   "source": [
    "# same code as before, but for global energy issues\n",
    "\n",
    "# setting important variables\n",
    "GEI_results = []\n",
    "GEI_api_url_start = 'https://content.guardianapis.com/search?q=\"Global%20Energy\"%20AND%20Issues%20OR%20\"Energy%20Issues\"&from-date=2022-02-20&page='\n",
    "GEI_api_url_end = '&page-size=100&api-key=dd3e21c9-be37-4bdb-b311-2fd86c0fd153'\n",
    "\n",
    "# getting the total page count\n",
    "GEI_page_count = page_count(GEI_api_url_start, GEI_api_url_end)\n",
    "\n",
    "\n",
    "# making the cache folder directory\n",
    "if cache_on:\n",
    "    if os.path.exists(\"./cache/GEI-Issues/\") is False:\n",
    "        os.makedirs(\"./cache/GEI-Issues/\")\n",
    "\n",
    "# printing first result of data if no errors, else printing the error (formatted)\n",
    "if type(GEI_page_count) == int:\n",
    "    GEI_results, error_msg = api_scraping(GEI_page_count, GEI_api_url_start, GEI_api_url_end, \"./cache/fuel-Issues/\")\n",
    "    print(f\"{error_msg[3]}\\n\\nThese were the error messages:\\n1: {error_msg[0]}\\n2: {error_msg[1]}\\n3: {error_msg[2]}\\n\\nMake sure the URL is correct, then try again\") if len(error_msg) > 3 else print(fuel_results[0])\n",
    "else:\n",
    "    print(GEI_page_count)"
   ]
  },
  {
   "cell_type": "code",
   "execution_count": null,
   "metadata": {},
   "outputs": [],
   "source": [
    "# loading GEI cache\n",
    "if cache_on:\n",
    "    GEI_results = cache_load(\"./cache/GEI-Issues/\")"
   ]
  },
  {
   "cell_type": "code",
   "execution_count": null,
   "metadata": {},
   "outputs": [],
   "source": [
    "# create DF from GEI_results list\n",
    "GEI_api_data_df = pd.DataFrame(GEI_results)\n",
    "\n",
    "\n",
    "# Clean/prepare the data for analysis\n",
    "GEI_api_data_df = df_creation(GEI_api_data_df)\n",
    "\n",
    "GEI_api_data_df"
   ]
  },
  {
   "cell_type": "markdown",
   "metadata": {},
   "source": [
    "### 3. Analysis"
   ]
  },
  {
   "cell_type": "markdown",
   "metadata": {},
   "source": [
    "The following functions are necessary for all the data analysis and visualisation. They either search the above dataframes for certain keywords, create a histogram based on inputted data, or create a dataframe with a total count of article frequency per month (all with only the relevant data in the outputted dataframe)"
   ]
  },
  {
   "cell_type": "code",
   "execution_count": null,
   "metadata": {},
   "outputs": [],
   "source": [
    "# searches the inputted original list of data scraped from the API for the inputted keywords, then creates a new dataframe\n",
    "def keyword_search(original_list, keywords, master_list):\n",
    "    results_list = []\n",
    "    for item in original_list:\n",
    "        # defining variables for later use\n",
    "        not_null_count = 0\n",
    "        keyword_map = {}\n",
    "        item_ID = item[\"id\"]\n",
    "        item_Type = item[\"type\"]\n",
    "        item_SectionName = item[\"sectionName\"]\n",
    "        item_WebPublicationDate = item[\"webPublicationDate\"]\n",
    "        item_WebTitle = item[\"webTitle\"]\n",
    "\n",
    "        # searching for the keywords inputted\n",
    "        for keyword in keywords:\n",
    "            keyword_map[keyword] = item_WebTitle.lower().count(keyword.lower())\n",
    "            if keyword_map[keyword] == 0:\n",
    "                not_null_count += 1\n",
    "        dynamic_object = {}\n",
    "\n",
    "        # setting column variables in dynamic_object dict based on found keywords\n",
    "        if \"id\" in item.keys():\n",
    "            dynamic_object[\"id\"] = item_ID\n",
    "            dynamic_object[\"type\"] = item_Type\n",
    "            dynamic_object[\"sectionName\"] = item_SectionName\n",
    "            dynamic_object[\"webPublicationDate\"] = item_WebPublicationDate\n",
    "            dynamic_object[\"webTitle\"] = item_WebTitle\n",
    "        else:\n",
    "            dynamic_object[\"ID\"] = item_ID\n",
    "            dynamic_object[\"Type\"] = item_Type\n",
    "            dynamic_object[\"Section Name\"] = item_SectionName\n",
    "            dynamic_object[\"web Publication Date\"] = item_WebPublicationDate\n",
    "            dynamic_object[\"Web Title\"] = item_WebTitle\n",
    "\n",
    "        for keyword in keywords:\n",
    "            dynamic_object[keyword] = keyword_map[keyword]\n",
    "        # appending found articles to list\n",
    "        if not_null_count < len(keywords):\n",
    "            results_list.append(dynamic_object)\n",
    "\n",
    "    # removing duplicate entries from list (function can be called using multiple dataframes, and will work dynamically)\n",
    "    for item in range(len(results_list)):\n",
    "        if results_list[item] not in master_list:\n",
    "            master_list.append(results_list[item])\n",
    "            \n",
    "    # creating dataframe with found results\n",
    "    new_dataframe  = pd.DataFrame(master_list)\n",
    "    if len(master_list) != 0:\n",
    "        new_dataframe = df_creation(new_dataframe)\n",
    "\n",
    "    return new_dataframe, master_list\n",
    "\n",
    "# Function to create a simple histogram\n",
    "def create_hist(df, col, bins, title, xlabel, ylabel):\n",
    "    hist = df[col].hist(bins=bins)\n",
    "    hist.set(title=title, xlabel=xlabel, ylabel=ylabel)\n",
    "    return hist\n",
    "\n",
    "# Function to create df containing the frequency of unique values in a given column in a given dataframe\n",
    "def count_generator(df, col):\n",
    "    list = []\n",
    "    number = int(df[col].min())\n",
    "    iterate_count = int(df[col].max()) - int(df[col].min()) + 1\n",
    "\n",
    "    # iterate in the amount of the number of unique values\n",
    "    for item in range(iterate_count):\n",
    "        map = {}\n",
    "        item_Month = number\n",
    "\n",
    "        if number in df[col].values:\n",
    "            item_Count = df[col].value_counts()[number]\n",
    "        else:\n",
    "            item_Count = 0\n",
    "\n",
    "        # append values to object, then to list\n",
    "        map[col] = item_Month\n",
    "        map[\"Count\"] = item_Count\n",
    "        list.append(map)\n",
    "        number +=1\n",
    "    new_df = pd.DataFrame(list)\n",
    "    return new_df"
   ]
  },
  {
   "cell_type": "markdown",
   "metadata": {},
   "source": [
    "Search the data for articles containing desired keywords, then store gathered information in dataframes"
   ]
  },
  {
   "cell_type": "code",
   "execution_count": null,
   "metadata": {},
   "outputs": [],
   "source": [
    "# identify desired keywords (artciles relating the war in ukraine, and GEI/fuel issues)\n",
    "\n",
    "environment_keywords_one = [\"fuel\", \"energy\", \"global\"]\n",
    "environment_keywords_two = [\"ukraine\", \"war\", \"russia\", \"moscow\", \"kyiv\"]\n",
    "\n",
    "environment_keywords_search_results = []\n",
    "\n",
    "# create DF of keywords (and count) in GRI issues data\n",
    "combined_energy_keywords_df, environment_keywords_search_results = keyword_search(ukraine_results, environment_keywords_one, environment_keywords_search_results)\n",
    "combined_energy_keywords_df, environment_keywords_search_results = keyword_search(fuel_results, environment_keywords_two, environment_keywords_search_results)\n",
    "combined_energy_keywords_df, environment_keywords_search_results = keyword_search(GEI_results, environment_keywords_two, environment_keywords_search_results)\n",
    "\n",
    "\n",
    "combined_energy_keywords_df"
   ]
  },
  {
   "cell_type": "code",
   "execution_count": null,
   "metadata": {},
   "outputs": [],
   "source": [
    "# identify desired keywords (artciles relating the war in ukraine, and GEI/fuel issues)\n",
    "political_vladimir_keywords_one = [\"putin\", \"vladimir\"]\n",
    "\n",
    "political_vladimir_keywords_search_results = []\n",
    "\n",
    "# create DF of keywords (and count) in GRI issues data\n",
    "combined_political_vladimir_keywords_df, political_vladimir_keywords_search_results = keyword_search(ukraine_results, political_vladimir_keywords_one, political_vladimir_keywords_search_results)\n",
    "combined_political_vladimir_keywords_df, political_vladimir_keywords_search_results = keyword_search(fuel_results, political_vladimir_keywords_one, political_vladimir_keywords_search_results)\n",
    "combined_political_vladimir_keywords_df, political_vladimir_keywords_search_results = keyword_search(GEI_results, political_vladimir_keywords_one, political_vladimir_keywords_search_results)\n",
    "\n",
    "combined_political_vladimir_keywords_df"
   ]
  },
  {
   "cell_type": "code",
   "execution_count": null,
   "metadata": {},
   "outputs": [],
   "source": [
    "# identify desired keywords (artciles relating the war in ukraine, and GEI/fuel issues)\n",
    "political_scott_keywords_one = [\"scott\", \"morrison\"]\n",
    "\n",
    "political_scott_keywords_search_results = []\n",
    "\n",
    "# create DF of keywords (and count) in GRI issues data\n",
    "combined_political_scott_keywords_df, political_scott_keywords_search_results = keyword_search(ukraine_results, political_scott_keywords_one, political_scott_keywords_search_results)\n",
    "combined_political_scott_keywords_df, political_scott_keywords_search_results = keyword_search(fuel_results, political_scott_keywords_one, political_scott_keywords_search_results)\n",
    "combined_political_scott_keywords_df, political_scott_keywords_search_results = keyword_search(GEI_results, political_scott_keywords_one, political_scott_keywords_search_results)\n",
    "\n",
    "combined_political_scott_keywords_df"
   ]
  },
  {
   "cell_type": "code",
   "execution_count": null,
   "metadata": {},
   "outputs": [],
   "source": [
    "# identify desired keywords (artciles relating the war in ukraine, and GEI/fuel issues)\n",
    "political_anthony_keywords_one = [\"albanese\", \"anthony\", \"albo\"]\n",
    "\n",
    "political_anthony_keywords_search_results = []\n",
    "\n",
    "# create DF of keywords (and count) in GRI issues data\n",
    "combined_political_anthony_keywords_df, political_anthony_keywords_search_results = keyword_search(ukraine_results, political_anthony_keywords_one, political_anthony_keywords_search_results)\n",
    "combined_political_anthony_keywords_df, political_anthony_keywords_search_results = keyword_search(fuel_results, political_anthony_keywords_one, political_anthony_keywords_search_results)\n",
    "combined_political_anthony_keywords_df, political_anthony_keywords_search_results = keyword_search(GEI_results, political_anthony_keywords_one, political_anthony_keywords_search_results)\n",
    "\n",
    "combined_political_anthony_keywords_df"
   ]
  },
  {
   "cell_type": "code",
   "execution_count": null,
   "metadata": {},
   "outputs": [],
   "source": [
    "# identify desired keywords (artciles relating the war in ukraine, and GEI/fuel issues)\n",
    "political_zelenskyy_keywords_one = [\"zelenskiy\", \"volodymyr\"]\n",
    "\n",
    "political_zelenskyy_keywords_search_results = []\n",
    "\n",
    "# create DF of keywords (and count) in GRI issues data\n",
    "combined_political_zelenskyy_keywords_df, political_zelenskyy_keywords_search_results = keyword_search(ukraine_results, political_zelenskyy_keywords_one, political_zelenskyy_keywords_search_results)\n",
    "combined_political_zelenskyy_keywords_df, political_zelenskyy_keywords_search_results = keyword_search(fuel_results, political_zelenskyy_keywords_one, political_zelenskyy_keywords_search_results)\n",
    "combined_political_zelenskyy_keywords_df, political_zelenskyy_keywords_search_results = keyword_search(GEI_results, political_zelenskyy_keywords_one, political_zelenskyy_keywords_search_results)\n",
    "\n",
    "combined_political_zelenskyy_keywords_df"
   ]
  },
  {
   "cell_type": "code",
   "execution_count": null,
   "metadata": {},
   "outputs": [],
   "source": [
    "# identify desired keywords (artciles relating the war in ukraine, and GEI/fuel issues)\n",
    "russia_keywords_one = [\"russia\"]\n",
    "\n",
    "russia_keywords_search_results = []\n",
    "\n",
    "# create DF of keywords (and count) in GRI issues data\n",
    "combined_russia_keywords_df, russia_keywords_search_results = keyword_search(ukraine_results, russia_keywords_one, russia_keywords_search_results)\n",
    "combined_russia_keywords_df, russia_keywords_search_results = keyword_search(fuel_results, russia_keywords_one, russia_keywords_search_results)\n",
    "combined_russia_keywords_df, russia_keywords_search_results = keyword_search(GEI_results, russia_keywords_one, russia_keywords_search_results)\n",
    "\n",
    "combined_russia_keywords_df"
   ]
  },
  {
   "cell_type": "code",
   "execution_count": null,
   "metadata": {},
   "outputs": [],
   "source": [
    "# identify desired keywords (artciles relating the war in ukraine, and GEI/fuel issues)\n",
    "price_keywords_one = [\"price\"]\n",
    "\n",
    "price_keywords_search_results = []\n",
    "\n",
    "# create DF of keywords (and count) in GRI issues data\n",
    "combined_price_keywords_df, price_keywords_search_results = keyword_search(ukraine_results, price_keywords_one, price_keywords_search_results)\n",
    "combined_price_keywords_df, price_keywords_search_results = keyword_search(fuel_results, price_keywords_one, price_keywords_search_results)\n",
    "combined_price_keywords_df, price_keywords_search_results = keyword_search(GEI_results, price_keywords_one, price_keywords_search_results)\n",
    "\n",
    "combined_price_keywords_df"
   ]
  },
  {
   "cell_type": "markdown",
   "metadata": {},
   "source": [
    "### 4. Visualisation"
   ]
  },
  {
   "cell_type": "markdown",
   "metadata": {},
   "source": [
    "Graph the dataframe containing articles concerning both the ukraine war and energy concerns"
   ]
  },
  {
   "cell_type": "code",
   "execution_count": null,
   "metadata": {},
   "outputs": [],
   "source": [
    "energy_keywords_frequency_hist = create_hist(combined_energy_keywords_df, \"Month\", [2, 3, 4, 5, 6, 7, 8, 9], 'Frequency of Article Publication by Month (Regarding Ukraine War and Energy Concerns)', 'Month Number', 'Count')"
   ]
  },
  {
   "cell_type": "markdown",
   "metadata": {},
   "source": [
    "Interesting, spike in month 8. whys that?"
   ]
  },
  {
   "cell_type": "code",
   "execution_count": null,
   "metadata": {},
   "outputs": [],
   "source": [
    "energy_month_3_df = combined_energy_keywords_df.loc[(combined_energy_keywords_df['Month']==3)]\n",
    "energy_month_6_df = combined_energy_keywords_df.loc[(combined_energy_keywords_df['Month']==8)]\n",
    "\n",
    "# Look at just the web titles\n",
    "print(\"Month 3:\")\n",
    "print()\n",
    "for item in energy_month_3_df['Web Title']:\n",
    "    print(item)\n",
    "print()\n",
    "print(\"Month 8:\")\n",
    "print()\n",
    "for item in energy_month_6_df['Web Title']:\n",
    "    print(item)"
   ]
  },
  {
   "cell_type": "markdown",
   "metadata": {},
   "source": [
    "Can't seem to find a clear trend of common words shared in both months, how about looking over all results?"
   ]
  },
  {
   "cell_type": "code",
   "execution_count": null,
   "metadata": {},
   "outputs": [],
   "source": [
    "month_check = int(combined_energy_keywords_df['Month'].min())\n",
    "# Look at just the web titles\n",
    "while month_check <= int(combined_energy_keywords_df['Month'].max()):\n",
    "    energy_keywords_month_result_df = combined_energy_keywords_df.loc[(combined_energy_keywords_df['Month']==month_check)]\n",
    "    print(f\"Month {month_check}:\")\n",
    "    for item in energy_keywords_month_result_df['Web Title']:\n",
    "        print(item)\n",
    "    month_check += 1\n",
    "    print()"
   ]
  },
  {
   "cell_type": "markdown",
   "metadata": {},
   "source": [
    "Interesting, still no clear underlying common term/s, aside from russia, ukrain, and energy (i.e., the words we filtered for in the first place)"
   ]
  },
  {
   "cell_type": "markdown",
   "metadata": {},
   "source": [
    "Next, lets look at the politicians. To do this, we first create histograms based on the Frequency of the mention of each politician in the data"
   ]
  },
  {
   "cell_type": "code",
   "execution_count": null,
   "metadata": {},
   "outputs": [],
   "source": [
    "scomo_frequency_hist = create_hist(combined_political_scott_keywords_df, \"Month\", [2, 3, 4, 5, 6, 7, 8, 9], 'Frequency of Article Publication by Month (Regarding Scott Morrison)', 'Month Number', 'Count')"
   ]
  },
  {
   "cell_type": "code",
   "execution_count": null,
   "metadata": {},
   "outputs": [],
   "source": [
    "albo_frequency_hist = create_hist(combined_political_anthony_keywords_df, \"Month\", [2, 3, 4, 5, 6, 7, 8, 9], 'Frequency of Article Publication by Month (Regarding Anthony Albanese)', 'Month Number', 'Count')"
   ]
  },
  {
   "cell_type": "code",
   "execution_count": null,
   "metadata": {},
   "outputs": [],
   "source": [
    "putin_frequency_hist = create_hist(combined_political_vladimir_keywords_df, \"Month\", [2, 3, 4, 5, 6, 7, 8, 9], 'Frequency of Article Publication by Month (Regarding Vladimir Putin)', 'Month Number', 'Count')"
   ]
  },
  {
   "cell_type": "code",
   "execution_count": null,
   "metadata": {},
   "outputs": [],
   "source": [
    "zelenskyy_frequency_hist = create_hist(combined_political_zelenskyy_keywords_df, \"Month\", [2, 3, 4, 5, 6, 7, 8, 9], 'Frequency of Article Publication by Month (Regarding Volodymyr Zelenskiy)', 'Month Number', 'Count')"
   ]
  },
  {
   "cell_type": "markdown",
   "metadata": {},
   "source": [
    "Now we would like to view how Scott Morrison and Anthony Albanese pair up together, as they have opposing looking histograms. To do this, we do a similar process as before, but creating line graphs, not histograms"
   ]
  },
  {
   "cell_type": "code",
   "execution_count": null,
   "metadata": {},
   "outputs": [],
   "source": [
    "# Grab the frequency of article publication per politician, per month\n",
    "scomo_frequency_df = count_generator(combined_political_scott_keywords_df, \"Month\")\n",
    "albo_frequency_df = count_generator(combined_political_anthony_keywords_df, \"Month\")\n",
    "putin_frequency_df = count_generator(combined_political_vladimir_keywords_df, \"Month\")\n",
    "zelenskyy_frequency_df = count_generator(combined_political_zelenskyy_keywords_df, \"Month\")"
   ]
  },
  {
   "cell_type": "code",
   "execution_count": null,
   "metadata": {},
   "outputs": [],
   "source": [
    "# Visualise the politicians\n",
    "fig, axs = plt.subplots(nrows=1, ncols=2, figsize=(20,5))\n",
    "fig.suptitle(\"Frequency of Article Publications Relating to Politicians\", fontweight=\"bold\", size=25)\n",
    "fig.tight_layout(h_pad=20)\n",
    "\n",
    "axs[0].set_title(\"Scott Morrison vs. Anthony Albanese\", fontweight=\"bold\", size=15)\n",
    "scomo_frequency_df.plot('Month', 'Count', ax=axs[0], label=\"Scott Morrison\", xticks=[2, 3, 4, 5, 6, 7, 8], xlabel=\"Month\", ylabel=\"Frequency\")\n",
    "albo_frequency_df.plot('Month', 'Count', ax=axs[0], label=\"Anthony Albanese\", xticks=[2, 3, 4, 5, 6, 7, 8], xlabel=\"Month\", ylabel=\"Frequency\")\n",
    "axs[0].legend(loc='upper right')\n",
    "\n",
    "axs[1].set_title(\"Vladimir Putin vs. Volodymyr Zelenskiy\", fontweight=\"bold\", size=15)\n",
    "putin_frequency_df.plot('Month', 'Count', ax=axs[1], label=\"Vladimir Putin\", xticks=[2, 3, 4, 5, 6, 7, 8], xlabel=\"Month\", ylabel=\"Frequency\")\n",
    "zelenskyy_frequency_df.plot('Month', 'Count', ax=axs[1], label=\"Volodymyr Zelenskiy\", xticks=[2, 3, 4, 5, 6, 7, 8], xlabel=\"Month\", ylabel=\"Frequency\")\n",
    "axs[1].legend(loc='upper right')"
   ]
  },
  {
   "cell_type": "markdown",
   "metadata": {},
   "source": [
    "Now a similar process, but for the 'Russia' and 'Prices' Data"
   ]
  },
  {
   "cell_type": "code",
   "execution_count": null,
   "metadata": {},
   "outputs": [],
   "source": [
    "# Grab, and plot the frequency of article publication for articles containing the word 'Russia' per month\n",
    "russia_frequency = count_generator(combined_russia_keywords_df, \"Month\")\n",
    "russia_frequency.plot('Month', 'Count', xticks=[2, 3, 4, 5, 6, 7, 8], xlabel=\"Month\", ylabel=\"Frequency\", title=\"Frequency of Article Publications Relating to Russia\", label=\"Russia\")"
   ]
  },
  {
   "cell_type": "code",
   "execution_count": null,
   "metadata": {},
   "outputs": [],
   "source": [
    "# Grab, and plot the frequency of article publication for articles containing the word 'Price' per month\n",
    "price_frequency = count_generator(combined_price_keywords_df, \"Month\")\n",
    "price_frequency.plot('Month', 'Count', xticks=[2, 3, 4, 5, 6, 7, 8], xlabel=\"Month\", ylabel=\"Frequency\", title=\"Frequency of Article Publications Relating to Price Fluctuations\", label=\"Price\")"
   ]
  },
  {
   "cell_type": "markdown",
   "metadata": {},
   "source": [
    "Interesting spikes in Month 3 and 6 for price graph. Why is this the case?"
   ]
  },
  {
   "cell_type": "code",
   "execution_count": null,
   "metadata": {},
   "outputs": [],
   "source": [
    "# interesting spike in frequency in month 3 and 6 (for price graph)\n",
    "price_month_3_df = combined_price_keywords_df.loc[(combined_price_keywords_df['Month']==3)]\n",
    "price_month_6_df = combined_price_keywords_df.loc[(combined_price_keywords_df['Month']==6)]\n",
    "\n",
    "# Look at just the web titles\n",
    "print(\"Month 3:\")\n",
    "print()\n",
    "for item in price_month_3_df['Web Title']:\n",
    "    print(item)\n",
    "print()\n",
    "print(\"Month 6:\")\n",
    "print()\n",
    "for item in price_month_6_df['Web Title']:\n",
    "    print(item)"
   ]
  },
  {
   "cell_type": "markdown",
   "metadata": {},
   "source": [
    "A large amount of the articles published in those two months are referring to fuel in some way...how many exactly?"
   ]
  },
  {
   "cell_type": "code",
   "execution_count": null,
   "metadata": {},
   "outputs": [],
   "source": [
    "# define the keywords\n",
    "fuel_check_keywords = [\"fuel\", \"gas\", \"petrol\", \"diesel\", \"oil\"]\n",
    "checked_price_keywords_search_results = []\n",
    "\n",
    "# create the required dataframes\n",
    "checked_price_keywords_df, checked_price_keywords_search_results = keyword_search(price_keywords_search_results, fuel_check_keywords, checked_price_keywords_search_results)\n",
    "\n",
    "fuel_price_frequency = count_generator(checked_price_keywords_df, \"Month\")"
   ]
  },
  {
   "cell_type": "code",
   "execution_count": null,
   "metadata": {},
   "outputs": [],
   "source": [
    "# Create a graph, make it appealing\n",
    "x = [2, 3, 4, 5, 6, 7, 8]\n",
    "default_x_ticks = range(len(x))\n",
    "plt.plot(price_frequency['Count'], label=\"Total Price Fluctuation\")\n",
    "plt.plot(fuel_price_frequency['Count'], label=\"Fuel Price Fluctuation\")\n",
    "plt.xlabel(\"Month\")\n",
    "plt.ylabel(\"Frequency\")\n",
    "plt.title(\"Total Amount of Articles Relating to Prices vs. Total Amount of Articles Relating to Fuel Prices\")\n",
    "plt.xticks(default_x_ticks, x)\n",
    "plt.legend(loc='upper right')\n",
    "plt.show()"
   ]
  },
  {
   "cell_type": "markdown",
   "metadata": {},
   "source": [
    "What % of the total prices articles are relating to fuel?"
   ]
  },
  {
   "cell_type": "code",
   "execution_count": null,
   "metadata": {},
   "outputs": [],
   "source": [
    "iteration_checker = 0\n",
    "percentage_list = []\n",
    "print(\"The percentage of fuel price articles compared to the total amount of 'price' articles each month is:\")\n",
    "while iteration_checker < len(fuel_price_frequency['Count']):\n",
    "    percentage = round(fuel_price_frequency['Count'][iteration_checker] / price_frequency['Count'][iteration_checker] * 100, 2)\n",
    "    percentage_list.append(percentage)\n",
    "    print(f\"Month {fuel_price_frequency['Month'][iteration_checker]}: {percentage}%\")\n",
    "    iteration_checker +=1\n",
    "print()\n",
    "print(f\"The overall percentage is {round(sum(percentage_list) / len(percentage_list), 2)}%\")"
   ]
  },
  {
   "cell_type": "markdown",
   "metadata": {},
   "source": [
    "### 5. Insight"
   ]
  },
  {
   "cell_type": "markdown",
   "metadata": {},
   "source": [
    "*Write your business insights drawn from the data analytics. Ensure that you clearly connect the business concern, the question, the analytics and the insights.*\n",
    "\n",
    "The concern identified to our company by our client is a potential negative impact on consumer spending over the last six months. Our client suspects the cause of this impacted consumer spending to be resulting from the media reporting surrounding the war in Ukraine, global energy issues, global fuel issues, or any related topic.\n",
    "\n",
    "To analyse the validity of these concerns, we use a variety of data. This data was sourced from the guardian API, at it is an internationally trusted and utilised news source and contains a large amount of articles on similarly numerous topics. We decided to focus on six main topics to identify any correlations. These topics were the war in Ukraine, global fuel issues, global energy issues, any mentions of Russia, any mentions of politicians (Australian, Russian, or Ukrainian), or any mentions of prices. The first three topics are self-explanatory, as they are directly what the client is concerned about. similarly, we are assuming that any article about Russia in the last six months can also be closely linked to the war in Ukraine, therefore this topic was also taken into consideration. Additionally, Australian, Russian, and Ukrainian politicians were analysed as there said could likely be a direct correlation between the portrayal of that politician (both positive or negative) and the overall perspective of that politicians supporter; therefore, potentially impacting their spending habits in certain areas. Depending on the results, a correlation between politicians and other topics could also be identified. Finally, the analysis of prices was conducted to try to determine any correlation to the previous topics, or any frequently occurring areas of concern.\n",
    "\n",
    "What is the concern?\n",
    "What data did we use?\n",
    "How did we analyse it, what decisions and why?\n",
    "What do the visualisations tell us?\n",
    "What is the recommendation for the concern? What other information would be helpful? What doesn't the data tell us? Can we make inferences?"
   ]
  },
  {
   "cell_type": "markdown",
   "metadata": {},
   "source": [
    "#### **The overall concern:** <br />\n",
    "The concern identified to our company by our client is a potential negative impact on consumer spending over the last six months. Our client suspects the cause of this impacted consumer spending to be resulting from the media reporting surrounding the war in Ukraine, global energy issues, global fuel issues, or any related topic."
   ]
  },
  {
   "cell_type": "markdown",
   "metadata": {},
   "source": [
    "#### **What data was used:** <br />\n",
    "To analyse the validity of these concerns, we use a variety of data. This data was sourced from the guardian API, at it is an internationally trusted and utilised news source and contains a large amount of articles on similarly numerous topics. We decided to focus on six main topics to identify any correlations. These topics were: <br />\n",
    "1. the war in Ukraine<br />\n",
    "2. global fuel issues<br />\n",
    "3. global energy issues<br />\n",
    "4. any mentions of Russia in the sourced articles<br />\n",
    "5. any mentions of politicians (Australian, Russian, or Ukrainian) in the sourced articles<br />\n",
    "6. any mentions of prices in the sourced articles.<br />\n",
    "\n",
    "\n",
    "The first three topics are self-explanatory, as they are the main topics identified by the client. \n",
    "\n",
    "Similarly, we are assuming that any article about Russia in the last six months can also be closely linked to the war in Ukraine, therefore this topic was also taken into consideration. Additionally, Australian, Russian, and Ukrainian politicians were analysed as there said could likely be a direct correlation between the portrayal of that politician (both positive or negative) and the overall perspective of that politicians supporter; therefore, potentially impacting their spending habits in certain areas. The analysis of only Australian, Ukrainian, and Russian leaders is to reduce the scope of the data. Furthermore, both Scott Morrison and Anthony Albanese will be identified as the Australian election occurred during the main reporting period of the Ukraine War. Depending on the results, a correlation between politicians and other topics could also be identified. Finally, the analysis of prices was conducted to try to determine any correlation to the previous topics, or any frequently occurring areas of concern. It should be mentioned that assumption was made that any mention of prices in articles regarding the Ukraine war, fuel issues, or energy issues will be negative as the media will likely be trying to identify a relationship between the negative events of the Ukraine war, and any price fluctuations, or alterations negatively impacting society. <br />\n",
    "\n",
    "Additionally, the last three topics will be analysed using the data pulled direct from the API, so they should be directly relevant to the overall topics in question.\n"
   ]
  },
  {
   "cell_type": "markdown",
   "metadata": {},
   "source": [
    "#### **How the data was analysed:** <br />\n",
    "The analysis performed contained three main steps. The first step involved identifying the overall topics (the war in Ukraine, global fuel issues, and global energy issues), and retrieving this data from the guardian API. Once all the data was retrieved, it was then placed into a data frame for further analysis to occur. The fervent use of data frames achieves three main goals, being permanent data storage, the ability to access the data multiple times easily, and a visually appealing medium of data viewing. <br />\n",
    "\n",
    "The second step of the process involved analysing the data retrieved to identify any baseline trends, as well as using the data obtained in the first step to identify the presence of the latter three topics identified (mention of Russia, politicians, or prices). This was achieved by searching the titles of the articles retrieved from the API using keywords, then creating new data frames each time a group of keywords is searched. Individualising the output results of each group of keywords allows for an easier time analysing each output specifically, and still achieves the main three goals identified previously. An example of this would be regarding politicians. When analysing the presence of the mention of politicians in the articles obtained from the API, four new data frames were created (one each for Vladimir Putin, Scott Morrison, Anthony Albanese, and Volodymyr Zelenskyy). This allows for the identification of any potential correlations for each politician specifically, then further visualise the output data for each politician comparatively. The same process was completed for identify presence of Russia, and the word ‘price’ in the original data. <br />\n",
    "\n",
    "The final step of analysis involved visualising the data. two types of grass for used come out being histograms, and line graphs. Histograms are commonly used to identify occurrences of data, therefore in this case they were used to graphically represent the frequency of the publication of articles mentioning Scott Morrison, Anthony Albanese, Vladimir Putin, or Volodymyr Zelenskyy (One histogram was created per politician). From there, bar graphs were created for each politician, with Scott Morrison and Anthony Albanese being plotted on the same graph. As mentioned previously, the Australian election occurred during the primary reporting period of the Ukraine war, therefore it can be assumed that once Anthony Albanese was voted into parliament, any articles pertaining to the Australian leader would mention Anthony Albanese as opposed to Scott Morrison. Finally, bar graphs were created for articles mentioning Russia, and articles mentioning the word price."
   ]
  },
  {
   "cell_type": "markdown",
   "metadata": {},
   "source": [
    "#### **What do the visualtions tell us:** <br />\n",
    "The first data that was analysed was the direct correlation between articles about the Ukraine war, and energy or fuel concerns. In the histogram, it can be observed that the frequency spiked in March, then decreased until it plateaued in June, until August in which it started increasing again. To try and identify any underlying trend existing in both March and August articles, manual analysis was conducted upon the titles of said articles. However, there existed no commonly mentioned topic aside from the words Ukraine, fuel, and energy, which where the keywords used to filter the overall data set in the first place. From there, manual analysis was conducted on the article titles from every month, however similarly there existed no commonly mentioned topic. For now, it was concluded that this is a phantom spike (a spike in article publication frequency for no single discernible reason).\n",
    "\n",
    "The next data set analysed was the data pertaining to the politicians. Firstly, as assumed, following the Australian election, articles mentioning Scott Morrison quickly declined. However articles mentioning Anthony Albanese quickly increased. The obvious reasoning for this would be the necessity of mentioning the Australian Prime Minister, as opposed to a specific member of parliament. Furthermore, as seen in the graphs made for both Vladimir Putin, and Volodymir Zelenskyy, the frequency of article publication spiked in March, then quickly declined in the proceeding months. This same relationship can mostly be seen in the bar graph containing the frequency of article publications relating to Russia, Scott Morrison, and Anthony Albanese.\n",
    "\n",
    "However, an interesting relationship can be identified in the fifth and sixth months in both the Vladimir Putin graph, and the Scott Morrison versus Anthony Albanese graph. As can be seen in the latter, the frequency of articles published spiked in the 5th month (specifically mentioning Anthony Albanese). However, as seen in the former, the frequency of articles published mentioning Vladimir Putin constantly increased from the 6th month onwards, directly opposing the previous trend identified. This new trend, coupled with the fact that articles mentioning Russia only continually declined from the spike in March, implies that any articles about the Ukrainian war, fuel or energy issues from May onwards are likely regarding the decisions of the Australian or the Russian leader, as opposed to the decisions made by Russia in its entirety. Therefore, it is likely that from may onwards, criticism regarding these leaders occurs more frequently in news articles then before. As mentioned previously, any portrayal of a politician in the media (both positive and negative) should have a directly correlating impact on said politicians supporters, potentially impacting their spending on any recently mentioned areas. For example, any criticism of Vladimir Putin (as the leader of Russia), could result in any reader of said article who opposes Vladimir Putin lowering their spending on Russian related products. This logic can then be applied to the graphs regarding Volodymyr Zelenskyy, and Scott Morrison versus Anthony Albanese.\n",
    "\n",
    "When looking at the graph containing the frequency of article publications relating to price fluctuations, an interesting relationship is present. Obviously, there is a large spike in March which lines up with every other graph as there is simply a larger number of articles published regarding the Ukraine war in March compared to any other month. However, it can be seen that there is a second spike in June where it then declined again in proceeding months. Although this trend is somewhat similar to what was observed in the Vladimir Putin graph, the logic cannot be directly applied here. To try and find the cause of this spike in June, manual analysis of all the titles of articles published in both March and June was conducted to define a potential underlying trend. From this analysis, it was found that a large number of articles published mentioned fuel in the title (the keywords used were fuel, oil, petrol, diesel, and gas). When this search was expanded to every month, and graphed together with all the articles regarding price, a very clear relationship occurs whereby both data sets contain the exact same trend line (spiking in March and June, decreasing in all other months). Additionally, when looking at the percentage of articles mentioning fuel in some form, it's shown that June contained a higher percentage of articles compared to March. This trend could explain multiple other relationships identified. \n",
    "\n",
    "Firstly, as 49% of the articles regarding price fluctuations also mentioned fuel (of some form) in the title, it can be concluded that the primary area of impacted consumer spending is fuel. This trend identified makes perfect sense when considering that both Ukraine and Russia are large international exporters of both fuel and oil. Therefore, any conflict between the two countries, or any actions by their leaders (or the country in their entirety) would directly affect the international supply of fuel, leading to a larger media presence of this topic.\n",
    "\n",
    "Secondly, as Russia is a common exporter of fuel and oil, any actions of Vladimir Putin which negatively affect the fuel prices would both increase the frequency of articles mentioning fuel prices; and create a surgency of articles mentioning Vladimir Putin specifically, thereby creating a snowball effect of negative portrayal of Vladimir Putin. This would then explain the sudden increase of articles mentioning Vladimir Putin from June onwards. This relationship can be brought back to the previously identified logic, where the constant portrayal of Vladimir Putin (now with relation to affected fuel prices) would heavily impact consumer spending on Russian products.\n",
    "\n",
    "With this being said, it is not clear whether the June spike of ‘fuel price’ articles is directly related to Vladimir Putin, or an external factor. However, since the original dataset is articles pertaining to the Ukraine war, fuel, or energy issues, this external factor must in some form be related to these topics. Additionally, this would mean that the sudden increase in Vladimir Putin related articles would similarly be caused by an external factor.\n",
    "\n",
    "No matter which reason is correct, this should explain the ‘phantom’ spike observed in the first histogram, where it is likely that an event occurring around June caused a snowball effect.\n"
   ]
  },
  {
   "cell_type": "markdown",
   "metadata": {},
   "source": [
    "#### **Recommendations for Concern:** <br />\n",
    "In conclusion, as is identified previously, the main area of consumer spending impacted from the Ukraine war, or global fuel or energy issues, is fuel and oil. Additionally, there has recently been a surgency of media representation of Vladimir Putin. Therefore, it is recommended to avoid any affiliation or mention of Vladimir Putin, Russia, or Ukraine to avoid any second hand/flow off effect on consumer spending. This will also allow your business to remain neutral, of also avoiding any potential negative impact sourced from the political opinions of your consumers. <br />\n",
    "\n",
    "There is a large amounts of information omitted from the collected data that would prove useful in reaching further, or more refined conclusions. Firstly, information about other common areas of consumer spending put in turn help identify or conclude the cause of the ‘phantom spike’ seen in the first histogram. Furthermore, obtaining data to help confirm the reasoning of the number of articles regarding Vladimir Putin suddenly increasing from June onwards would allow a more well-reasoned insight on this topic. This could then lead to a more accurate conclusion. Finally, the total number of articles mentioning either of the 2 Australian prime ministers in the reporting period is noticeably low. Obtaining more data on either of the two mentioned prime ministers would also assist in coming to a clearer and more accurate conclusion on the overall business concern. <br />\n",
    "\n",
    "As mentioned, the data does not bring to light the effect on other areas of consumer spending, due to the sheer lack of data on these topics. However, despite this absence, it is still clear that fuel is the most heavily impacted area. Despite the assumptions mentioned previously (primarily being any mention of politicians is directly pertaining to the Ukraine war, and the sudden increase of mentions of Vladimir Putin is a direct result of an action), it is not completely clear if these assumptions are well founded. For example, there is potential that the increase in frequency of Vladimir Putin (from June onwards) isn't a result of an action pertaining to the war, but the articles where he is mentioned from June onwards are simply mentioning the Ukraine war in conjunction comparatively. An example of this could be an article simply mentioning a minor action taken by Vladimir Putin, unrelated to the Ukraine war (however specifying that is action took place after the events of the Ukraine War). An article of this nature would not have any effect on consumer spending as it is unrelated to any previously mentioned topic. In order to identify any articles of this nature, deep analysis would have to be performed on every article to identify said article’s overall point. However, due to the likelihood of this event being quiet low, it can be reasonably assumed that this is not the case.\n"
   ]
  },
  {
   "cell_type": "markdown",
   "metadata": {},
   "source": []
  }
 ],
 "metadata": {
  "kernelspec": {
   "display_name": "Python 3.10.5 64-bit",
   "language": "python",
   "name": "python3"
  },
  "language_info": {
   "codemirror_mode": {
    "name": "ipython",
    "version": 3
   },
   "file_extension": ".py",
   "mimetype": "text/x-python",
   "name": "python",
   "nbconvert_exporter": "python",
   "pygments_lexer": "ipython3",
   "version": "3.10.5"
  },
  "vscode": {
   "interpreter": {
    "hash": "9808b2779335f0c2807c1ba1d02e59bcffca5136fddd2b56b75a42a062051586"
   }
  }
 },
 "nbformat": 4,
 "nbformat_minor": 4
}
